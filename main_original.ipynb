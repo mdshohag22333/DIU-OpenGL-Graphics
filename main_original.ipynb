{
  "cells": [
    {
      "cell_type": "markdown",
      "metadata": {
        "id": "view-in-github",
        "colab_type": "text"
      },
      "source": [
        "<a href=\"https://colab.research.google.com/github/mdshohag22333/DIU-OpenGL-Graphics/blob/main/main_original.ipynb\" target=\"_parent\"><img src=\"https://colab.research.google.com/assets/colab-badge.svg\" alt=\"Open In Colab\"/></a>"
      ]
    },
    {
      "cell_type": "code",
      "execution_count": null,
      "metadata": {
        "colab": {
          "base_uri": "https://localhost:8080/"
        },
        "id": "jMweA6ZIVl7T",
        "outputId": "dc5f31d1-ded0-4214-847c-e31a4bdee9df"
      },
      "outputs": [
        {
          "output_type": "stream",
          "name": "stdout",
          "text": [
            "Looking in indexes: https://pypi.org/simple, https://us-python.pkg.dev/colab-wheels/public/simple/\n",
            "Collecting image-classifiers\n",
            "  Downloading image_classifiers-1.0.0-py3-none-any.whl (19 kB)\n",
            "Collecting keras-applications<=1.0.8,>=1.0.7\n",
            "  Downloading Keras_Applications-1.0.8-py3-none-any.whl (50 kB)\n",
            "\u001b[K     |████████████████████████████████| 50 kB 3.2 MB/s \n",
            "\u001b[?25hRequirement already satisfied: numpy>=1.9.1 in /usr/local/lib/python3.8/dist-packages (from keras-applications<=1.0.8,>=1.0.7->image-classifiers) (1.21.6)\n",
            "Requirement already satisfied: h5py in /usr/local/lib/python3.8/dist-packages (from keras-applications<=1.0.8,>=1.0.7->image-classifiers) (3.1.0)\n",
            "Installing collected packages: keras-applications, image-classifiers\n",
            "Successfully installed image-classifiers-1.0.0 keras-applications-1.0.8\n",
            "Looking in indexes: https://pypi.org/simple, https://us-python.pkg.dev/colab-wheels/public/simple/\n",
            "Collecting efficientnet\n",
            "  Downloading efficientnet-1.1.1-py3-none-any.whl (18 kB)\n",
            "Requirement already satisfied: scikit-image in /usr/local/lib/python3.8/dist-packages (from efficientnet) (0.18.3)\n",
            "Requirement already satisfied: keras-applications<=1.0.8,>=1.0.7 in /usr/local/lib/python3.8/dist-packages (from efficientnet) (1.0.8)\n",
            "Requirement already satisfied: h5py in /usr/local/lib/python3.8/dist-packages (from keras-applications<=1.0.8,>=1.0.7->efficientnet) (3.1.0)\n",
            "Requirement already satisfied: numpy>=1.9.1 in /usr/local/lib/python3.8/dist-packages (from keras-applications<=1.0.8,>=1.0.7->efficientnet) (1.21.6)\n",
            "Requirement already satisfied: networkx>=2.0 in /usr/local/lib/python3.8/dist-packages (from scikit-image->efficientnet) (2.8.8)\n",
            "Requirement already satisfied: pillow!=7.1.0,!=7.1.1,>=4.3.0 in /usr/local/lib/python3.8/dist-packages (from scikit-image->efficientnet) (7.1.2)\n",
            "Requirement already satisfied: scipy>=1.0.1 in /usr/local/lib/python3.8/dist-packages (from scikit-image->efficientnet) (1.7.3)\n",
            "Requirement already satisfied: PyWavelets>=1.1.1 in /usr/local/lib/python3.8/dist-packages (from scikit-image->efficientnet) (1.4.1)\n",
            "Requirement already satisfied: tifffile>=2019.7.26 in /usr/local/lib/python3.8/dist-packages (from scikit-image->efficientnet) (2022.10.10)\n",
            "Requirement already satisfied: imageio>=2.3.0 in /usr/local/lib/python3.8/dist-packages (from scikit-image->efficientnet) (2.9.0)\n",
            "Requirement already satisfied: matplotlib!=3.0.0,>=2.0.0 in /usr/local/lib/python3.8/dist-packages (from scikit-image->efficientnet) (3.2.2)\n",
            "Requirement already satisfied: kiwisolver>=1.0.1 in /usr/local/lib/python3.8/dist-packages (from matplotlib!=3.0.0,>=2.0.0->scikit-image->efficientnet) (1.4.4)\n",
            "Requirement already satisfied: pyparsing!=2.0.4,!=2.1.2,!=2.1.6,>=2.0.1 in /usr/local/lib/python3.8/dist-packages (from matplotlib!=3.0.0,>=2.0.0->scikit-image->efficientnet) (3.0.9)\n",
            "Requirement already satisfied: python-dateutil>=2.1 in /usr/local/lib/python3.8/dist-packages (from matplotlib!=3.0.0,>=2.0.0->scikit-image->efficientnet) (2.8.2)\n",
            "Requirement already satisfied: cycler>=0.10 in /usr/local/lib/python3.8/dist-packages (from matplotlib!=3.0.0,>=2.0.0->scikit-image->efficientnet) (0.11.0)\n",
            "Requirement already satisfied: six>=1.5 in /usr/local/lib/python3.8/dist-packages (from python-dateutil>=2.1->matplotlib!=3.0.0,>=2.0.0->scikit-image->efficientnet) (1.15.0)\n",
            "Installing collected packages: efficientnet\n",
            "Successfully installed efficientnet-1.1.1\n"
          ]
        }
      ],
      "source": [
        "!pip install -U image-classifiers\n",
        "!pip install -U efficientnet"
      ]
    },
    {
      "cell_type": "markdown",
      "metadata": {
        "id": "XjXqljbyWU0u"
      },
      "source": [
        "### Mount Drive\n",
        "* change working directory"
      ]
    },
    {
      "cell_type": "code",
      "execution_count": null,
      "metadata": {
        "id": "z-ODbCLPT9p4",
        "colab": {
          "base_uri": "https://localhost:8080/"
        },
        "outputId": "64be7636-a8ec-41e5-c100-2aed102d8cf8"
      },
      "outputs": [
        {
          "output_type": "stream",
          "name": "stdout",
          "text": [
            "Mounted at /content/drive\n"
          ]
        }
      ],
      "source": [
        "from google.colab import drive\n",
        "drive.mount('/content/drive')"
      ]
    },
    {
      "cell_type": "code",
      "execution_count": null,
      "metadata": {
        "id": "_HzZt8VrWylx",
        "colab": {
          "base_uri": "https://localhost:8080/"
        },
        "outputId": "0ef79473-c0d3-49b4-e801-7889db291fa6"
      },
      "outputs": [
        {
          "output_type": "stream",
          "name": "stdout",
          "text": [
            "/content/drive/MyDrive/BreastCancer/local\n"
          ]
        }
      ],
      "source": [
        "cd /content/drive/MyDrive/BreastCancer/local/"
      ]
    },
    {
      "cell_type": "code",
      "execution_count": null,
      "metadata": {
        "id": "HbofzSesXfFe",
        "colab": {
          "base_uri": "https://localhost:8080/"
        },
        "outputId": "f25f0596-2239-40a1-e3b4-bc08796d780a"
      },
      "outputs": [
        {
          "output_type": "stream",
          "name": "stdout",
          "text": [
            "total 9\n",
            "-rw------- 1 root root  223 Nov 26 11:53 config.json\n",
            "drwx------ 2 root root 4096 Nov 26 11:54 \u001b[0m\u001b[01;34mcoreLib\u001b[0m/\n",
            "drwx------ 2 root root 4096 Nov 26 12:03 \u001b[01;34mmodels\u001b[0m/\n"
          ]
        }
      ],
      "source": [
        "ls -la"
      ]
    },
    {
      "cell_type": "markdown",
      "metadata": {
        "id": "4EymdFf7yp_U"
      },
      "source": [
        "# PARAMETERS\n",
        "**BEFORE YOU START**\n",
        "\n",
        "> Indented block\n",
        "\n",
        "\n",
        "* **Kaggle dataset GCS path** from kaggle dataset\n",
        "* **UPLOAD DATA CONFIG**\n",
        "\n",
        "**SET THE FOLLOWING VARIABLES**\n",
        "```python\n",
        "  GCS_PATH    :    The raw path of kaggle gcs\n",
        "  EPOCHS      :    number of epochs  \n",
        "  BUFFER_SIZE :    shuffle size of the buffer    \n",
        "  MODEL_NAME  :    name of the saved model\n",
        "  TF_IDEN     :    name of the zipped folder\n",
        "  DATA_FOLDER :    tfrecords folder\n",
        "```"
      ]
    },
    {
      "cell_type": "code",
      "execution_count": null,
      "metadata": {
        "id": "Q4y7rTBIxjrc",
        "colab": {
          "base_uri": "https://localhost:8080/"
        },
        "outputId": "cac1fd02-52b8-4907-890a-d2b72a757531"
      },
      "outputs": [
        {
          "output_type": "stream",
          "name": "stdout",
          "text": [
            "gs://kds-1c3e86f416f5f1bdf557568f8548df866aecc1b0d9c729c0642634a5/content/drive/MyDrive/BreastCancer/data/tfrecords\n",
            "/content/drive/MyDrive/BreastCancer/local/models/seresnext101/seresnext101.h5\n"
          ]
        }
      ],
      "source": [
        "import os\n",
        "GCS_PATH    =    'gs://kds-1c3e86f416f5f1bdf557568f8548df866aecc1b0d9c729c0642634a5'\n",
        "MODEL_NAME  =    \"seresnext101\" # @param [\"vgg16\",\"vgg19\",\"resnet18\",\"resnet34\",\"resnet50\",\"resnet101\",\"resnet152\",\"resnet50v2\",\"resnet101v2\",\"resnet152v2\",\"resnext50\",\"resnext101\",\"densenet121\",\"densenet169\",\"densenet201\",\"inceptionv3\",\"xception\",\"inceptionresnetv2\",\"seresnet18\",\"seresnet34\",\"seresnet50\",\"seresnet101\",\"seresnet152\",\"seresnext50\",\"seresnext101\",\"senet154\",\"nasnetlarge\",\"nasnetmobile\",\"mobilenet\",\"mobilenetv2\"]\n",
        "DATA_FOLDER =    \"content/drive/MyDrive/BreastCancer/data/tfrecords\"\n",
        "EPOCHS      =    250   # @param\n",
        "BUFFER_SIZE =    2048\n",
        "MODEL_DIR =    os.path.join(os.getcwd(),\"models\",f'{MODEL_NAME}')\n",
        "\n",
        "if not os.path.exists(MODEL_DIR):\n",
        "   os.mkdir(MODEL_DIR)\n",
        "\n",
        "WEIGHT_PATH=os.path.join(MODEL_DIR,f\"{MODEL_NAME}.h5\")\n",
        "GCS_PATH    =    f'{GCS_PATH}/{DATA_FOLDER}'\n",
        "print(GCS_PATH)\n",
        "print(WEIGHT_PATH)\n",
        "\n"
      ]
    },
    {
      "cell_type": "markdown",
      "metadata": {
        "id": "gRyKZA_u1Fh4"
      },
      "source": [
        "# Config Reading"
      ]
    },
    {
      "cell_type": "code",
      "execution_count": null,
      "metadata": {
        "colab": {
          "base_uri": "https://localhost:8080/"
        },
        "id": "jzGG2S4T1FLH",
        "outputId": "b504de74-ab3f-4b06-a4b3-17d2d3adad47"
      },
      "outputs": [
        {
          "output_type": "execute_result",
          "data": {
            "text/plain": [
              "{'image_type': 'rgb',\n",
              " 'img_dim': 256,\n",
              " 'labels': ['benign', 'malignant', 'normal'],\n",
              " 'nb_channels': 3,\n",
              " 'nb_classes': 3,\n",
              " 'nb_eval_data': 5225,\n",
              " 'nb_train_data': 13236}"
            ]
          },
          "metadata": {},
          "execution_count": 6
        }
      ],
      "source": [
        "import json\n",
        "\n",
        "with open('config.json') as f:\n",
        "  config = json.load(f)\n",
        "\n",
        "IMAGE_TYPE =  config['image_type']\n",
        "IMG_DIM    =  config['img_dim']\n",
        "LABELS     =  config['labels']\n",
        "NB_CHANNEL =  config['nb_channels']\n",
        "NB_CLASSES =  config['nb_classes']\n",
        "NB_TRAIN   =  config['nb_train_data']\n",
        "NB_EVAL    =  config['nb_eval_data']\n",
        "\n",
        "config"
      ]
    },
    {
      "cell_type": "markdown",
      "metadata": {
        "id": "piOjb1EY77j5"
      },
      "source": [
        "# DEFAULT OPS: TPU TFrecords"
      ]
    },
    {
      "cell_type": "markdown",
      "metadata": {
        "id": "ljnNX33-3oXh"
      },
      "source": [
        "## TPU initialize"
      ]
    },
    {
      "cell_type": "code",
      "execution_count": null,
      "metadata": {
        "id": "U2calqzckRF0"
      },
      "outputs": [],
      "source": [
        "import tensorflow as tf\n",
        "import os\n",
        "\n",
        "\n",
        "print(tf.__version__)\n",
        "# Detect hardware, return appropriate distribution strategy\n",
        "try:\n",
        "    tpu = tf.distribute.cluster_resolver.TPUClusterResolver()  # TPU detection. No parameters necessary if TPU_NAME environment variable is set. On Kaggle this is always the case.\n",
        "    print('Running on TPU ', tpu.master())\n",
        "except ValueError:\n",
        "    tpu = None\n",
        "\n",
        "if tpu:\n",
        "    tf.config.experimental_connect_to_cluster(tpu)\n",
        "    tf.tpu.experimental.initialize_tpu_system(tpu)\n",
        "    strategy = tf.distribute.experimental.TPUStrategy(tpu)\n",
        "else:\n",
        "    strategy = tf.distribute.get_strategy() # default distribution strategy in Tensorflow. Works on CPU and single GPU.\n",
        "\n",
        "print(\"REPLICAS: \", strategy.num_replicas_in_sync)"
      ]
    },
    {
      "cell_type": "markdown",
      "metadata": {
        "id": "kM2_ekih3sxP"
      },
      "source": [
        "## Training Params"
      ]
    },
    {
      "cell_type": "code",
      "execution_count": null,
      "metadata": {
        "colab": {
          "base_uri": "https://localhost:8080/"
        },
        "id": "_fH9Ss4Y3iX3",
        "outputId": "ca85f695-f8d3-4a37-e618-39efc798d822"
      },
      "outputs": [
        {
          "output_type": "stream",
          "name": "stdout",
          "text": [
            "827 326\n"
          ]
        }
      ],
      "source": [
        "BATCH_SIZE = 16 * strategy.num_replicas_in_sync\n",
        "STEPS_PER_EPOCH = NB_TRAIN//BATCH_SIZE\n",
        "EVAL_STEPS      = NB_EVAL//BATCH_SIZE\n",
        "print(STEPS_PER_EPOCH,EVAL_STEPS)"
      ]
    },
    {
      "cell_type": "markdown",
      "metadata": {
        "id": "PKeTVSaM3uvJ"
      },
      "source": [
        "## Data input function"
      ]
    },
    {
      "cell_type": "code",
      "execution_count": null,
      "metadata": {
        "id": "QsIWYmcMt-8A"
      },
      "outputs": [],
      "source": [
        "def data_input_fn(mode):\n",
        "    '''\n",
        "      This Function generates data from gcs\n",
        "    '''\n",
        "\n",
        "    def _parser(example):\n",
        "        feature ={  'image'  : tf.io.FixedLenFeature((),tf.string) ,\n",
        "                    'label'  : tf.io.FixedLenFeature((),tf.int64)\n",
        "        }\n",
        "        parsed_example=tf.io.parse_single_example(example,feature)\n",
        "        image_raw=parsed_example['image']\n",
        "        image=tf.image.decode_png(image_raw,channels=NB_CHANNEL)\n",
        "        image=tf.cast(image,tf.float32)/255.0\n",
        "        image=tf.reshape(image,(IMG_DIM,IMG_DIM,NB_CHANNEL))\n",
        "\n",
        "        idx = tf.cast(parsed_example['label'], tf.int32)\n",
        "        label=tf.one_hot(idx,NB_CLASSES,dtype=tf.float32)\n",
        "        return image,label\n",
        "\n",
        "    gcs_pattern=os.path.join(GCS_PATH,mode,'*.tfrecord')\n",
        "    file_paths = tf.io.gfile.glob(gcs_pattern)\n",
        "    dataset = tf.data.TFRecordDataset(file_paths)\n",
        "    dataset = dataset.map(_parser)\n",
        "    dataset = dataset.shuffle(BUFFER_SIZE,reshuffle_each_iteration=True)\n",
        "    dataset = dataset.repeat()\n",
        "    dataset = dataset.batch(BATCH_SIZE,drop_remainder=True)\n",
        "    dataset = dataset.prefetch(tf.data.experimental.AUTOTUNE)\n",
        "    return dataset\n"
      ]
    },
    {
      "cell_type": "markdown",
      "metadata": {
        "id": "HMs5mC_x3yIC"
      },
      "source": [
        "# Data Check"
      ]
    },
    {
      "cell_type": "code",
      "execution_count": null,
      "metadata": {
        "id": "p0MlgE8Auhzj",
        "colab": {
          "base_uri": "https://localhost:8080/",
          "height": 321
        },
        "outputId": "1a5a059c-ba0b-4097-a1b0-507d25fb3c04"
      },
      "outputs": [
        {
          "output_type": "display_data",
          "data": {
            "text/plain": [
              "<Figure size 432x288 with 1 Axes>"
            ],
            "image/png": "[encoded data removed]"
          },
          "metadata": {
            "needs_background": "light"
          }
        },
        {
          "output_type": "stream",
          "name": "stdout",
          "text": [
            "Image Batch Shape: (16, 256, 256, 3)\n",
            "Target Batch Shape: (16, 3)\n",
            "tf.Tensor([1. 0. 0.], shape=(3,), dtype=float32)\n"
          ]
        }
      ],
      "source": [
        "import numpy as np\n",
        "import matplotlib.pyplot as plt\n",
        "%matplotlib inline\n",
        "\n",
        "train_ds  =   data_input_fn(\"train\")\n",
        "eval_ds   =   data_input_fn(\"eval\")\n",
        "\n",
        "\n",
        "for x,y in eval_ds.take(1):\n",
        "    data=np.squeeze(x[0])\n",
        "    plt.imshow(data)\n",
        "    plt.show()\n",
        "    print('Image Batch Shape:',x.shape)\n",
        "    print('Target Batch Shape:',y.shape)\n",
        "    print(y[0])\n"
      ]
    },
    {
      "cell_type": "markdown",
      "metadata": {
        "id": "-FUNg8BYfq4J"
      },
      "source": [
        "# MODEL definition\n",
        "**THIS IS CHANGEABLE**"
      ]
    },
    {
      "cell_type": "markdown",
      "metadata": {
        "id": "A3TKjiZchG9o"
      },
      "source": [
        "## Callbacks\n",
        "**CHANGABLE**"
      ]
    },
    {
      "cell_type": "code",
      "execution_count": null,
      "metadata": {
        "id": "Q7_t5R56whLB"
      },
      "outputs": [],
      "source": [
        "\n",
        "# reduces learning rate on plateau\n",
        "lr_reducer = tf.keras.callbacks.ReduceLROnPlateau(factor=0.1,\n",
        "                                                  cooldown= 10,\n",
        "                                                  patience=10,\n",
        "                                                  verbose =1,\n",
        "                                                  min_lr=0.1e-7)\n",
        "\n",
        "mode_autosave = tf.keras.callbacks.ModelCheckpoint(WEIGHT_PATH,\n",
        "                                                  save_best_only=True,\n",
        "                                                  verbose=1,\n",
        "                                                  period =1)\n",
        "\n",
        "# stop learining as metric on validatopn stop increasing\n",
        "early_stopping = tf.keras.callbacks.EarlyStopping(patience=15,\n",
        "                                                  verbose=1,\n",
        "                                                  mode = 'auto')\n",
        "\n",
        "callbacks = [mode_autosave, lr_reducer,early_stopping ]\n"
      ]
    },
    {
      "cell_type": "code",
      "execution_count": null,
      "metadata": {
        "id": "vETk92tWOCaY"
      },
      "outputs": [],
      "source": [
        "from classification_models.tfkeras import Classifiers\n",
        "with strategy.scope():\n",
        "    classifier, _ = Classifiers.get(MODEL_NAME)\n",
        "    net=classifier(input_shape=(IMG_DIM,IMG_DIM,NB_CHANNEL),include_top=False)\n",
        "    inp=net.input\n",
        "    x=net.output\n",
        "    x=tf.keras.layers.GlobalAveragePooling2D()(x)\n",
        "    x=tf.keras.layers.Dropout(0.1)(x)\n",
        "    x=tf.keras.layers.Dense(NB_CLASSES,activation=\"softmax\")(x)\n",
        "    model=tf.keras.Model(inputs=inp,outputs=x)\n",
        "    model.compile(\n",
        "        optimizer=tf.keras.optimizers.Adam(learning_rate=1e-4),\n",
        "        loss = 'categorical_crossentropy',\n",
        "        metrics=['accuracy']\n",
        "    )\n",
        "\n",
        "\n",
        "\n",
        "\n",
        "model.summary()"
      ]
    },
    {
      "cell_type": "code",
      "execution_count": null,
      "metadata": {
        "id": "ZPMnZ7_wwZjt"
      },
      "outputs": [],
      "source": [
        "history = model.fit(train_ds,\n",
        "                    steps_per_epoch=STEPS_PER_EPOCH,\n",
        "                    epochs=EPOCHS,\n",
        "                    verbose=1,\n",
        "                    validation_data=eval_ds,\n",
        "                    validation_steps=EVAL_STEPS,\n",
        "                    callbacks=callbacks)"
      ]
    },
    {
      "cell_type": "markdown",
      "metadata": {
        "id": "q4oacOBk4F0b"
      },
      "source": [
        "## Model history"
      ]
    },
    {
      "cell_type": "markdown",
      "metadata": {
        "id": "qIiB57jzISdt"
      },
      "source": [
        "# Results\n",
        "\n"
      ]
    },
    {
      "cell_type": "code",
      "execution_count": null,
      "metadata": {
        "id": "SqdWXP41p5c6"
      },
      "outputs": [],
      "source": [
        "def plot_history(history,MODEL_DIR,iden):\n",
        "    \"\"\"\n",
        "    Plots model training history\n",
        "    \"\"\"\n",
        "    fig, (ax_loss, ax_acc) = plt.subplots(1, 2, figsize=(15,5))\n",
        "    ax_loss.plot(history.epoch, history.history[\"loss\"], label=\"Train loss\")\n",
        "    ax_loss.plot(history.epoch, history.history[\"val_loss\"], label=\"Validation loss\")\n",
        "    ax_loss.legend()\n",
        "    ax_acc.plot(history.epoch, history.history[\"accuracy\"], label=\"Train Accuracy\")\n",
        "    ax_acc.plot(history.epoch, history.history[\"val_accuracy\"], label=\"Validation Accuracy\")\n",
        "    ax_acc.legend()\n",
        "    plt.savefig(os.path.join(MODEL_DIR,f\"{iden}.png\"))\n",
        "    plt.show()\n",
        "\n",
        "# show history\n",
        "plot_history(history,MODEL_DIR,f\"{MODEL_NAME}\")"
      ]
    },
    {
      "cell_type": "markdown",
      "metadata": {
        "id": "TTdWAeuk78tK"
      },
      "source": [
        "# Model Evaluation on pure testing"
      ]
    },
    {
      "cell_type": "code",
      "execution_count": null,
      "metadata": {
        "id": "wQ9L_zap8BDV"
      },
      "outputs": [],
      "source": [
        "model.load_weights(WEIGHT_PATH)\n",
        "result = model.evaluate(eval_ds,steps=EVAL_STEPS )\n",
        "dict(zip(model.metrics_names, result))"
      ]
    },
    {
      "cell_type": "code",
      "execution_count": null,
      "metadata": {
        "id": "-8bceCW8glCA"
      },
      "outputs": [],
      "source": [
        "from tqdm.auto import tqdm\n",
        "gts=[]\n",
        "preds=[]\n",
        "\n",
        "for x,y in tqdm(eval_ds.take(EVAL_STEPS)):\n",
        "  y_pred=model.predict(x)\n",
        "  gt= list(np.argmax(y, axis=1))\n",
        "  pred=list(np.argmax(y_pred, axis=1))\n",
        "  gts+=gt\n",
        "  preds+=pred\n",
        "\n",
        "gts=np.array(gts)\n",
        "preds=np.array(preds)"
      ]
    },
    {
      "cell_type": "code",
      "execution_count": null,
      "metadata": {
        "id": "z55qu_3Z-xLb"
      },
      "outputs": [],
      "source": [
        "from tqdm.auto import tqdm\n",
        "gts=[]\n",
        "preds=[]\n",
        "\n",
        "for x,y in tqdm(eval_ds.take(EVAL_STEPS)):\n",
        "  y_pred=model.predict(x)\n",
        "  gt= list(np.argmax(y, axis=1))\n",
        "  pred=list(np.argmax(y_pred, axis=1))\n",
        "  gts+=gt\n",
        "  preds+=pred\n",
        "\n",
        "gts=np.array(gts)\n",
        "preds=np.array(preds\n",
        "\n",
        "\n",
        "    # calculate the fpr and tpr for all thresholds of the classification\n",
        "    probabilities = model.predict(np.array(gts))\n",
        "    predictions = probabilities[:, 1]\n",
        "    fpr, tpr, threshold = metrics.roc_curve(gts, preds)\n",
        "    roc_auc = metrics.auc(fpr, tpr)\n",
        "    plt.title('Receiver Operating Characteristic')\n",
        "    plt.plot(fpr, tpr, 'b', label='AUC = %0.2f' % roc_auc)\n",
        "    plt.legend(loc='lower right')\n",
        "    plt.plot([0, 1], [0, 1], 'r--')\n",
        "    plt.xlim([0, 1])\n",
        "    plt.ylim([0, 1])\n",
        "    plt.ylabel('True Positive Rate')\n",
        "    plt.xlabel('False Positive Rate')\n",
        "    plt.show()"
      ]
    },
    {
      "cell_type": "code",
      "execution_count": null,
      "metadata": {
        "id": "1ShEL5Ztz6MR"
      },
      "outputs": [],
      "source": [
        "import numpy as np\n",
        "from sklearn import metrics\n",
        "from sklearn.metrics import roc_curve\n",
        "y_pred_keras = model.predict(x).ravel()\n",
        "fpr_keras, tpr_keras, thresholds_keras= roc_curve(gts, preds)\n",
        "\n",
        "from sklearn.metrics import auc\n",
        "auc_keras = auc(fpr_keras, tpr_keras)\n",
        "from tqdm.auto import tqdm\n",
        "gts=[]\n",
        "preds=[]\n",
        "\n",
        "for x,y in tqdm(eval_ds.take(EVAL_STEPS)):\n",
        "  y_pred=model.predict(x)\n",
        "  gt= list(np.argmax(y, axis=1))\n",
        "  pred=list(np.argmax(y_pred, axis=1))\n",
        "  gts+=gt\n",
        "  preds+=pred\n",
        "\n",
        "gts=np.array(gts)\n",
        "preds=np.array(preds)\n",
        "y_pred = model.predict(x).ravel()\n",
        "\n",
        "scores = np.array(preds)\n",
        "fpr, tpr, thresholds = metrics.roc_curve(gts, preds, pos_label=9)\n",
        "roc_auc = metrics.auc(fpr, tpr)\n",
        "\n",
        "from sklearn.metrics import roc_curve\n",
        "\n",
        "fpr_keras, tpr_keras, thresholds_keras = roc_curve(gts, preds)\n",
        "\n",
        "from sklearn.metrics import auc\n",
        "auc_keras = auc(fpr_keras, tpr_keras)\n",
        "\n",
        "import matplotlib.pyplot as plt\n",
        "plt.figure(1)\n",
        "plt.plot([0, 1], [0, 1], 'k--')\n",
        "plt.plot(fpr_keras, tpr_keras, label='Keras (area = {:.3f})'.format(auc_keras))\n",
        "plt.plot(fpr_keras, tpr_keras, label='RF (area = {:.3f})'.format(auc_keras))\n",
        "plt.xlabel('False positive rate')\n",
        "plt.ylabel('True positive rate')\n",
        "plt.title('ROC curve')\n",
        "plt.legend(loc='best')\n",
        "plt.show()\n",
        "plt.figure( os.path.join(MODEL_DIR,f\"ROC_{MODEL_NAME}.png\"))"
      ]
    },
    {
      "cell_type": "code",
      "execution_count": null,
      "metadata": {
        "id": "2J30F7LajG_W"
      },
      "outputs": [],
      "source": [
        "from sklearn.metrics import classification_report\n",
        "print(classification_report(gts, preds, target_names=LABELS))\n"
      ]
    },
    {
      "cell_type": "code",
      "execution_count": null,
      "metadata": {
        "id": "aoWeyPWCjla5"
      },
      "outputs": [],
      "source": [
        "from sklearn.metrics import confusion_matrix\n",
        "import seaborn as sn\n",
        "import pandas as pd\n",
        "import matplotlib.pyplot as plt\n",
        "con_mat=confusion_matrix(preds, gts)\n",
        "df_cm = pd.DataFrame(con_mat,\n",
        "                     index = LABELS,\n",
        "                     columns = LABELS)\n",
        "plt.figure(figsize = (10,10))\n",
        "sn.set(font_scale=1.4)\n",
        "sn.heatmap(df_cm, annot=True,annot_kws={\"size\": 16},fmt='g')\n",
        "plt.savefig( os.path.join(MODEL_DIR,f\"confusion_{MODEL_NAME}.png\"))\n",
        "plt.show()\n",
        "\n",
        "\n",
        "\n"
      ]
    }
  ],
  "metadata": {
    "accelerator": "TPU",
    "colab": {
      "provenance": [],
      "include_colab_link": true
    },
    "gpuClass": "standard",
    "kernelspec": {
      "display_name": "Python 3",
      "name": "python3"
    }
  },
  "nbformat": 4,
  "nbformat_minor": 0
}